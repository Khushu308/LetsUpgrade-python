{
  "nbformat": 4,
  "nbformat_minor": 0,
  "metadata": {
    "colab": {
      "name": "DAY_8",
      "provenance": [],
      "authorship_tag": "ABX9TyMW2z8qRDiifCyKXfykmc+J",
      "include_colab_link": true
    },
    "kernelspec": {
      "name": "python3",
      "display_name": "Python 3"
    }
  },
  "cells": [
    {
      "cell_type": "markdown",
      "metadata": {
        "id": "view-in-github",
        "colab_type": "text"
      },
      "source": [
        "<a href=\"https://colab.research.google.com/github/Khushu308/LetsUpgrade-python/blob/master/DAY_8.ipynb\" target=\"_parent\"><img src=\"https://colab.research.google.com/assets/colab-badge.svg\" alt=\"Open In Colab\"/></a>"
      ]
    },
    {
      "cell_type": "markdown",
      "metadata": {
        "id": "2UjsJ06XeMbL",
        "colab_type": "text"
      },
      "source": [
        "Day 8 Assignment - 1"
      ]
    },
    {
      "cell_type": "code",
      "metadata": {
        "id": "1Vy_VLxYeC_K",
        "colab_type": "code",
        "colab": {
          "base_uri": "https://localhost:8080/",
          "height": 105
        },
        "outputId": "0c5c153f-1659-4d04-9588-0e6c8b7acf18"
      },
      "source": [
        "arr = []\n",
        "def getInput(calculate_arg_fun):\n",
        "    def wrap_function():\n",
        "        print(\"Hey people enter two numbers =\")\n",
        "        a = int(input(\"Enter your upper limit - \"))\n",
        "        b = int(input(\"Enter your lower limit - \"))\n",
        "        for i in range(a,b):\n",
        "            calculate_arg_fun(i)   \n",
        "    return wrap_function\n",
        "@getInput\n",
        "def prime(num):\n",
        "    check = 0\n",
        "    for y in range(2,num):\n",
        "        if num%y == 0 :\n",
        "            check+=1\n",
        "    if check==0 and num != 1:\n",
        "        arr.append(num)\n",
        "\n",
        "prime()\n",
        "print(arr)"
      ],
      "execution_count": null,
      "outputs": [
        {
          "output_type": "stream",
          "text": [
            "Hey people enter two numbers =\n",
            "Enter your upper limit - 1\n",
            "Enter your lower limit - 201\n",
            "[2, 3, 5, 7, 11, 13, 17, 19, 23, 29, 31, 37, 41, 43, 47, 53, 59, 61, 67, 71, 73, 79, 83, 89, 97, 101, 103, 107, 109, 113, 127, 131, 137, 139, 149, 151, 157, 163, 167, 173, 179, 181, 191, 193, 197, 199]\n"
          ],
          "name": "stdout"
        }
      ]
    },
    {
      "cell_type": "markdown",
      "metadata": {
        "id": "boykicQHfJtC",
        "colab_type": "text"
      },
      "source": [
        "Assignment 2"
      ]
    },
    {
      "cell_type": "code",
      "metadata": {
        "id": "fRPnXmDEfNaV",
        "colab_type": "code",
        "colab": {
          "base_uri": "https://localhost:8080/",
          "height": 34
        },
        "outputId": "094face3-c214-4a21-cd2a-9a04552b298f"
      },
      "source": [
        "try:\n",
        "   fh = open(\"testfile\", \"w\")\n",
        "   fh.write(\"This is my test file for exception handling!!\")\n",
        "except IOError:\n",
        "   print(\"Error: can\\'t find file or read data\")\n",
        "else:\n",
        "   print(\"Written content in the file successfully\")\n",
        "   fh.close()"
      ],
      "execution_count": 5,
      "outputs": [
        {
          "output_type": "stream",
          "text": [
            "Written content in the file successfully\n"
          ],
          "name": "stdout"
        }
      ]
    }
  ]
}