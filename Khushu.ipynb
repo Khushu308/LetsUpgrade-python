{
  "nbformat": 4,
  "nbformat_minor": 0,
  "metadata": {
    "colab": {
      "name": "Khushu.ipynb",
      "provenance": [],
      "collapsed_sections": [],
      "authorship_tag": "ABX9TyNPqhdV1V0IH+IgnvgtAPt8",
      "include_colab_link": true
    },
    "kernelspec": {
      "name": "python3",
      "display_name": "Python 3"
    }
  },
  "cells": [
    {
      "cell_type": "markdown",
      "metadata": {
        "id": "view-in-github",
        "colab_type": "text"
      },
      "source": [
        "<a href=\"https://colab.research.google.com/github/Khushu308/LetsUpgrade-python/blob/master/Khushu.ipynb\" target=\"_parent\"><img src=\"https://colab.research.google.com/assets/colab-badge.svg\" alt=\"Open In Colab\"/></a>"
      ]
    },
    {
      "cell_type": "markdown",
      "metadata": {
        "id": "AYwQ-Ww2PQEt",
        "colab_type": "text"
      },
      "source": [
        "# List and its Functions"
      ]
    },
    {
      "cell_type": "code",
      "metadata": {
        "id": "xo47BtR8ztbr",
        "colab_type": "code",
        "colab": {
          "base_uri": "https://localhost:8080/",
          "height": 187
        },
        "outputId": "75c4284d-bb04-4634-f715-b99128b175ed"
      },
      "source": [
        "print(\"hii! Its khushbpo\")\n",
        "print(\"Day 2 Assignment 1\")\n",
        "#list and its default functions\n",
        "lst=[10,20,30,40]\n",
        "print(lst)\n",
        "lst.append(50)\n",
        "lst.append(10)\n",
        "print(\"count 0f 10 is\",lst.count(10))\n",
        "print(lst)\n",
        "l=[1,2,3,4,5]\n",
        "print(l)\n",
        "l.extend(lst)\n",
        "print(\"Extended List\",l)\n",
        "l.reverse()\n",
        "print(\"Reverse List\",l)\n",
        "lst.pop()\n",
        "print(lst)\n",
        "l.sort()\n",
        "print(l)"
      ],
      "execution_count": null,
      "outputs": [
        {
          "output_type": "stream",
          "text": [
            "hii! Its khushbpo\n",
            "Day 2 Assignment 1\n",
            "[10, 20, 30, 40]\n",
            "count 0f 10 is 2\n",
            "[10, 20, 30, 40, 50, 10]\n",
            "[1, 2, 3, 4, 5]\n",
            "Extended List [1, 2, 3, 4, 5, 10, 20, 30, 40, 50, 10]\n",
            "Reverse List [10, 50, 40, 30, 20, 10, 5, 4, 3, 2, 1]\n",
            "[10, 20, 30, 40, 50]\n",
            "[1, 2, 3, 4, 5, 10, 10, 20, 30, 40, 50]\n"
          ],
          "name": "stdout"
        }
      ]
    },
    {
      "cell_type": "markdown",
      "metadata": {
        "id": "MzHeemhUnFlT",
        "colab_type": "text"
      },
      "source": [
        "# Dictionary functions"
      ]
    },
    {
      "cell_type": "code",
      "metadata": {
        "id": "8ZFh0gk-n8yV",
        "colab_type": "code",
        "colab": {
          "base_uri": "https://localhost:8080/",
          "height": 136
        },
        "outputId": "12c6e914-12f8-458b-e0cd-c2ae782f96b7"
      },
      "source": [
        "d1={1:\"One\",2:\"Two\",3:\"Three\"}\n",
        "print(d1)\n",
        "print(\"Last value is\",d1.get(2))\n",
        "print(\"All keys\",d1.keys())\n",
        "print(\"All values\",d1.values())\n",
        "print(\"popped item\",d1.pop(1))\n",
        "print(d1)\n",
        "d1.clear()\n",
        "print(d1)"
      ],
      "execution_count": null,
      "outputs": [
        {
          "output_type": "stream",
          "text": [
            "{1: 'One', 2: 'Two', 3: 'Three'}\n",
            "Last value is Two\n",
            "All keys dict_keys([1, 2, 3])\n",
            "All values dict_values(['One', 'Two', 'Three'])\n",
            "popped item One\n",
            "{2: 'Two', 3: 'Three'}\n",
            "{}\n"
          ],
          "name": "stdout"
        }
      ]
    },
    {
      "cell_type": "markdown",
      "metadata": {
        "id": "WWymI840pn2R",
        "colab_type": "text"
      },
      "source": [
        "# Sets and its functions"
      ]
    },
    {
      "cell_type": "code",
      "metadata": {
        "id": "i7fONwhcp-Eb",
        "colab_type": "code",
        "colab": {
          "base_uri": "https://localhost:8080/",
          "height": 153
        },
        "outputId": "ac149baf-14e8-4fd8-c56d-db8f808b9316"
      },
      "source": [
        "s1={1,2,3,4,5,3,4,4}\n",
        "s1.add(6)\n",
        "print(s1)\n",
        "s2={\"a\",\"b\",\"c\",\"d\"}\n",
        "s2.update(\"e\")\n",
        "print(s2)\n",
        "print(\"Union\",s1.union(s2))\n",
        "print(\"Intersection\",s1.intersection(s2))\n",
        "print(\"Difference\",s1.difference(s2))\n",
        "print(\"length is\",len(s1))\n",
        "print('Maximum is',max(s1))\n",
        "print('Minimum is',min(s1))\n",
        "\n",
        "\n"
      ],
      "execution_count": null,
      "outputs": [
        {
          "output_type": "stream",
          "text": [
            "{1, 2, 3, 4, 5, 6}\n",
            "{'c', 'd', 'e', 'a', 'b'}\n",
            "Union {1, 2, 3, 4, 5, 6, 'c', 'd', 'e', 'a', 'b'}\n",
            "Intersection set()\n",
            "Difference {1, 2, 3, 4, 5, 6}\n",
            "length is 6\n",
            "Maximum is 6\n",
            "Minimum is 1\n"
          ],
          "name": "stdout"
        }
      ]
    },
    {
      "cell_type": "markdown",
      "metadata": {
        "id": "tPBEq_SzEVTa",
        "colab_type": "text"
      },
      "source": [
        "# Tuple and Methods"
      ]
    },
    {
      "cell_type": "code",
      "metadata": {
        "id": "PhS3w8f9EblA",
        "colab_type": "code",
        "colab": {
          "base_uri": "https://localhost:8080/",
          "height": 136
        },
        "outputId": "1091c44e-ee7b-4521-e96f-30b5882d777a"
      },
      "source": [
        "t1=(1,2,3,4,5,6)\n",
        "t2=(10,20,30,40)\n",
        "print(t1)\n",
        "print(t2)\n",
        "t3= t1 + t2\n",
        "print(t3)\n",
        "print(\"length is\",len(t3))\n",
        "print('Maximum is',max(t3))\n",
        "print('Minimum is',min(t3))\n",
        "print('Index of 30 is',t3.index(30))"
      ],
      "execution_count": null,
      "outputs": [
        {
          "output_type": "stream",
          "text": [
            "(1, 2, 3, 4, 5, 6)\n",
            "(10, 20, 30, 40)\n",
            "(1, 2, 3, 4, 5, 6, 10, 20, 30, 40)\n",
            "length is 10\n",
            "Maximum is 40\n",
            "Minimum is 1\n",
            "Index of 30 is 8\n"
          ],
          "name": "stdout"
        }
      ]
    },
    {
      "cell_type": "markdown",
      "metadata": {
        "id": "i_V-hxUYHVod",
        "colab_type": "text"
      },
      "source": [
        "# Strings "
      ]
    },
    {
      "cell_type": "code",
      "metadata": {
        "id": "W3AbKe9pHt6x",
        "colab_type": "code",
        "colab": {
          "base_uri": "https://localhost:8080/",
          "height": 136
        },
        "outputId": "f302522e-18e0-404b-9ba2-c3b5378673d6"
      },
      "source": [
        "a=\"I am khushboo patil\"\n",
        "b=\"i am a diploma student\"\n",
        "print(type(a))\n",
        "print(\"length is\",len(a))\n",
        "print('Maximum is',max(a))\n",
        "print(a + \" \" + b)\n",
        "print(a.find('k'))\n",
        "print(a.islower())\n",
        "print(a.isnumeric())\n",
        "\n"
      ],
      "execution_count": null,
      "outputs": [
        {
          "output_type": "stream",
          "text": [
            "<class 'str'>\n",
            "length is 19\n",
            "Maximum is u\n",
            "I am khushboo patil i am a diploma student\n",
            "5\n",
            "False\n",
            "False\n"
          ],
          "name": "stdout"
        }
      ]
    }
  ]
}