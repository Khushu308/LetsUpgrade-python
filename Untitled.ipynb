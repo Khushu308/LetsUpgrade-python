{
  "nbformat": 4,
  "nbformat_minor": 0,
  "metadata": {
    "colab": {
      "name": "Untitled",
      "provenance": [],
      "collapsed_sections": [],
      "authorship_tag": "ABX9TyMGsUtDEakNZbKF/k4oR4Kf",
      "include_colab_link": true
    },
    "kernelspec": {
      "name": "python3",
      "display_name": "Python 3"
    }
  },
  "cells": [
    {
      "cell_type": "markdown",
      "metadata": {
        "id": "view-in-github",
        "colab_type": "text"
      },
      "source": [
        "<a href=\"https://colab.research.google.com/github/Khushu308/LetsUpgrade-python/blob/master/Untitled.ipynb\" target=\"_parent\"><img src=\"https://colab.research.google.com/assets/colab-badge.svg\" alt=\"Open In Colab\"/></a>"
      ]
    },
    {
      "cell_type": "markdown",
      "metadata": {
        "id": "ufKwWI8-lh2H",
        "colab_type": "text"
      },
      "source": [
        "**Assignment 1 Day 4**"
      ]
    },
    {
      "cell_type": "code",
      "metadata": {
        "id": "XRt0wh4lRFNA",
        "colab_type": "code",
        "colab": {
          "base_uri": "https://localhost:8080/",
          "height": 34
        },
        "outputId": "22af8fe6-dea7-4345-df79-fb81418eba6f"
      },
      "source": [
        "for num in range(1042000, 702648265 + 1):\n",
        "\n",
        "   order = len(str(num))\n",
        "   sum = 0\n",
        "\n",
        "   temp = num\n",
        "   while temp > 0:\n",
        "       digit = temp % 10\n",
        "       sum += digit ** order\n",
        "       temp //= 10\n",
        "      \n",
        "\n",
        "   if num == sum:\n",
        "       print(num)\n",
        "       break\n"
      ],
      "execution_count": 4,
      "outputs": [
        {
          "output_type": "stream",
          "text": [
            "1741725\n"
          ],
          "name": "stdout"
        }
      ]
    }
  ]
}