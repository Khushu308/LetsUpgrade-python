{
  "nbformat": 4,
  "nbformat_minor": 0,
  "metadata": {
    "colab": {
      "name": "day6.ipynb",
      "provenance": [],
      "authorship_tag": "ABX9TyO0UGjEZprKB6ELAl1HV+Hh",
      "include_colab_link": true
    },
    "kernelspec": {
      "name": "python3",
      "display_name": "Python 3"
    }
  },
  "cells": [
    {
      "cell_type": "markdown",
      "metadata": {
        "id": "view-in-github",
        "colab_type": "text"
      },
      "source": [
        "<a href=\"https://colab.research.google.com/github/Khushu308/LetsUpgrade-python/blob/master/day6.ipynb\" target=\"_parent\"><img src=\"https://colab.research.google.com/assets/colab-badge.svg\" alt=\"Open In Colab\"/></a>"
      ]
    },
    {
      "cell_type": "markdown",
      "metadata": {
        "id": "meManQ7HlLB-",
        "colab_type": "text"
      },
      "source": [
        "Assignment-1   Day 6"
      ]
    },
    {
      "cell_type": "code",
      "metadata": {
        "id": "uhSvchJCiAkt",
        "colab_type": "code",
        "colab": {
          "base_uri": "https://localhost:8080/",
          "height": 170
        },
        "outputId": "689bef44-4b6f-4ba8-c973-19ef7b7ab865"
      },
      "source": [
        "class Bank_Account: \n",
        "    def __init__(self,ownername,balance): \n",
        "        self.ownername = ownername\n",
        "        self.balance = balance\n",
        "        print(\"Hello!!! Welcome \", ownername,\" to the Deposit & Withdrawal Machine\") \n",
        "  \n",
        "    def deposit(self): \n",
        "        amount=float(input(\"Enter amount to be Deposited: \")) \n",
        "        self.balance += amount \n",
        "        print(\"\\n Amount Deposited:\",amount) \n",
        "  \n",
        "    def withdraw(self): \n",
        "        amount = float(input(\"Enter amount to be Withdrawn: \")) \n",
        "        if self.balance>=amount: \n",
        "            self.balance-=amount \n",
        "            print(\"\\n You Withdrew:\", amount) \n",
        "        else: \n",
        "            print(\"\\n Insufficient balance  \") \n",
        "  \n",
        "    def display(self): \n",
        "        print(\"\\n Net Available Balance=\",self.balance) \n",
        "  \n",
        "# Driver code \n",
        "   \n",
        "# creating an object of class \n",
        "s = Bank_Account(\"Khushboo\", 125000) \n",
        "   \n",
        "# Calling functions with that class object \n",
        "s.deposit() \n",
        "s.withdraw() \n",
        "s.display()"
      ],
      "execution_count": 1,
      "outputs": [
        {
          "output_type": "stream",
          "text": [
            "Hello!!! Welcome  Khushboo  to the Deposit & Withdrawal Machine\n",
            "Enter amount to be Deposited: 1200\n",
            "\n",
            " Amount Deposited: 1200.0\n",
            "Enter amount to be Withdrawn: 50\n",
            "\n",
            " You Withdrew: 50.0\n",
            "\n",
            " Net Available Balance= 126150.0\n"
          ],
          "name": "stdout"
        }
      ]
    },
    {
      "cell_type": "markdown",
      "metadata": {
        "id": "isaZw_-tq9mD",
        "colab_type": "text"
      },
      "source": [
        "Assignment-2 Day 6"
      ]
    },
    {
      "cell_type": "code",
      "metadata": {
        "id": "doZhVBO-rClU",
        "colab_type": "code",
        "colab": {
          "base_uri": "https://localhost:8080/",
          "height": 102
        },
        "outputId": "e6c5b328-2110-4671-e1d6-61dabe26f9b3"
      },
      "source": [
        "import math\n",
        "class cone:\n",
        "  def __init__(self,radius,height):\n",
        "    self.radius = radius\n",
        "    self.height = height\n",
        "    print(\"Radius is \",self.radius)\n",
        "    print(\"Height is \",self.height)\n",
        "\n",
        "  def volume(self):\n",
        "    vol = (1.0/3) * math.pi * self.radius * self.radius * self.height\n",
        "    print(\"Volume of cone is \",vol)\n",
        "\n",
        "  def surface_area(self):\n",
        "    l = math.sqrt(self.radius * self.radius + self.height * self.height)\n",
        "    print(\"Side of cone is \",l)\n",
        "    sa = math.pi * self.radius * (self.radius + l)\n",
        "    print(\"Surface area of cone is \",sa)\n",
        "\n",
        "c=cone(3,5)\n",
        "c.volume()\n",
        "c.surface_area()\n",
        "\n",
        "\n",
        "  \n"
      ],
      "execution_count": 5,
      "outputs": [
        {
          "output_type": "stream",
          "text": [
            "Radius is  3\n",
            "Height is  5\n",
            "Volume of cone is  47.12388980384689\n",
            "Side of cone is  5.830951894845301\n",
            "Surface area of cone is  83.22976079115259\n"
          ],
          "name": "stdout"
        }
      ]
    }
  ]
}