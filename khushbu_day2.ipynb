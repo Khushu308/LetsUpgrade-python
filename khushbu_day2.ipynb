{
  "nbformat": 4,
  "nbformat_minor": 0,
  "metadata": {
    "colab": {
      "name": "khushbu_day2.ipynb",
      "provenance": [],
      "collapsed_sections": [],
      "authorship_tag": "ABX9TyNMaybg/jwJ2AfRewyJYo2J",
      "include_colab_link": true
    },
    "kernelspec": {
      "name": "python3",
      "display_name": "Python 3"
    }
  },
  "cells": [
    {
      "cell_type": "markdown",
      "metadata": {
        "id": "view-in-github",
        "colab_type": "text"
      },
      "source": [
        "<a href=\"https://colab.research.google.com/github/Khushu308/LetsUpgrade-python/blob/master/khushbu_day2.ipynb\" target=\"_parent\"><img src=\"https://colab.research.google.com/assets/colab-badge.svg\" alt=\"Open In Colab\"/></a>"
      ]
    },
    {
      "cell_type": "markdown",
      "metadata": {
        "id": "Llgsw3bDMG_P",
        "colab_type": "text"
      },
      "source": [
        "**ASSIGNMENT 1 Day 3**"
      ]
    },
    {
      "cell_type": "code",
      "metadata": {
        "id": "ImK8cWIIJgpk",
        "colab_type": "code",
        "colab": {
          "base_uri": "https://localhost:8080/",
          "height": 102
        },
        "outputId": "cd114ad4-679f-4c9d-ec0d-f1abcb6cca2a"
      },
      "source": [
        "print(\"Aeroplane Control\")\n",
        "altitude = int(input(\"Enter the current Altitude\"))\n",
        "print(\"Current altitude is \",altitude)\n",
        "if (altitude <= 1000):\n",
        "  print(\"Safe to land, You can land the plane\")\n",
        "elif (altitude > 1000 and altitude <= 5000):\n",
        "  print(\"Bring down the plane at 1000 feet\")\n",
        "else:\n",
        "  print(\"Turn around and try later\")\n",
        "print(\"Safe journey\")\n"
      ],
      "execution_count": 3,
      "outputs": [
        {
          "output_type": "stream",
          "text": [
            "Aeroplane Control\n",
            "Enter the current Altitude6500\n",
            "Current altitude is  6500\n",
            "Turn around and try later\n",
            "Safe journey\n"
          ],
          "name": "stdout"
        }
      ]
    },
    {
      "cell_type": "markdown",
      "metadata": {
        "id": "4uouqzulMS8q",
        "colab_type": "text"
      },
      "source": [
        "**ASSIGNMENT 2 Day 3**"
      ]
    },
    {
      "cell_type": "code",
      "metadata": {
        "id": "7OSAdkvLMY8i",
        "colab_type": "code",
        "colab": {
          "base_uri": "https://localhost:8080/",
          "height": 799
        },
        "outputId": "7776aad4-4eae-47a8-f4bb-2e2cd0e79ca1"
      },
      "source": [
        "print(\"All primes nos between 1-200\")\n",
        "for n in range(3,200 + 1):\n",
        "   if n > 1:\n",
        "       for i in range(2, n):\n",
        "           if (n % i) == 0:\n",
        "               break\n",
        "       else:\n",
        "           print(n)\n",
        "\n",
        "\n",
        "\n"
      ],
      "execution_count": 15,
      "outputs": [
        {
          "output_type": "stream",
          "text": [
            "All primes nos between 1-200\n",
            "3\n",
            "5\n",
            "7\n",
            "11\n",
            "13\n",
            "17\n",
            "19\n",
            "23\n",
            "29\n",
            "31\n",
            "37\n",
            "41\n",
            "43\n",
            "47\n",
            "53\n",
            "59\n",
            "61\n",
            "67\n",
            "71\n",
            "73\n",
            "79\n",
            "83\n",
            "89\n",
            "97\n",
            "101\n",
            "103\n",
            "107\n",
            "109\n",
            "113\n",
            "127\n",
            "131\n",
            "137\n",
            "139\n",
            "149\n",
            "151\n",
            "157\n",
            "163\n",
            "167\n",
            "173\n",
            "179\n",
            "181\n",
            "191\n",
            "193\n",
            "197\n",
            "199\n"
          ],
          "name": "stdout"
        }
      ]
    }
  ]
}